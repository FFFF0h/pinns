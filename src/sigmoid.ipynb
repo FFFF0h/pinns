{
 "cells": [
  {
   "cell_type": "code",
   "execution_count": null,
   "metadata": {},
   "outputs": [],
   "source": []
  }
 ],
 "metadata": {
  "kernelspec": {
   "display_name": "torch_env",
   "language": "python",
   "name": "python3"
  },
  "language_info": {
   "name": "python",
   "version": "3.10.9"
  },
  "orig_nbformat": 4,
  "vscode": {
   "interpreter": {
    "hash": "3decef9de15692e943d8ba9030631dde541652ce6b5ee141ed4460351759d122"
   }
  }
 },
 "nbformat": 4,
 "nbformat_minor": 2
}
